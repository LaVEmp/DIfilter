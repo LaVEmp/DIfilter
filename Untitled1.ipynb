{
 "cells": [
  {
   "cell_type": "code",
   "execution_count": 2,
   "metadata": {},
   "outputs": [],
   "source": [
    "from PIL import Image\n",
    "import numpy as np\n",
    "import os\n",
    "import json\n",
    "import io\n",
    "import requests\n",
    "def getImages(url):\n",
    "    data = {'roleId': 1, 'condition': '', 'isHandle': -1, 'isValid': -1, 'isFever': -1, 'dateStart': '2020-06-16', 'dateEnd': '2020-06-18',\n",
    "            'timeSort': 1, 'tempSort': -1, 'pageSize': 1, 'pageNum': 2}\n",
    "    headers = {'content-type': \"application/json\"}\n",
    "    req = requests.post(url=url, data=json.dumps(data),headers=headers)\n",
    "    imgs_data = json.loads(req.content)\n",
    "    print(imgs_data)"
   ]
  },
  {
   "cell_type": "code",
   "execution_count": 3,
   "metadata": {},
   "outputs": [
    {
     "name": "stdout",
     "output_type": "stream",
     "text": [
      "{'code': 0, 'errorMessage': None, 'data': {'content': [{'id': 490922, 'alarmId': 'e66bcf27538a4375b552298f995dd7cd', 'alarmIrPicUrl': 'group1/M00/12/5F/CgEUdV7n-ISAPWncAAAZjruxN3E189.jpg', 'alarmVlPicUrl': 'group1/M00/12/5F/CgEUdV7n-ISACKN_AARnU1U0eHE128.jpg', 'uploadTime': '2020-06-16 06:39:02', 'temperature': 39.3, 'realTemperature': 0.0, 'ipChannel': '', 'updateTime': '2020-06-16 06:39:02', 'type': 'INIT', 'isHandle': False, 'isValid': None, 'isFever': False, 'handler': None, 'name': '', 'cardNumber': '', 'phoneNumber': '', 'version': 2.0, 'device': {'id': 1051, 'deviceId': '南一门入口\\x00\\x00\\x00\\x00\\x00', 'name': '南一门入口', 'createTime': '2020-04-09 18:23:08', 'updateTime': '2020-06-18 14:41:14', 'area': '南一门入口\\x00\\x00\\x00\\x00\\x00', 'pictureUrl': None, 'state': 0, 'userName': None, 'phoneNumber': None, 'back': None}, 'alarmFaceAxis': [{'id': 350307, 'temperature': 39.3, 'alarmVlPicLeftTopX': 499.0, 'alarmVlPicLeftTopY': 201.0, 'alarmVlPicRightBottomX': 535.0, 'alarmVlPicRightBottomY': 239.0}], 'handleSuggest': ''}, {'id': 490932, 'alarmId': '7e2fa1c539d64554b35bca5344a37527', 'alarmIrPicUrl': 'group1/M00/12/5F/CgEUdV7n-pKAeFMkAAAbr-RkpcY774.jpg', 'alarmVlPicUrl': '', 'uploadTime': '2020-06-16 06:47:49', 'temperature': 43.1, 'realTemperature': 0.0, 'ipChannel': '', 'updateTime': '2020-06-16 06:47:49', 'type': 'INIT', 'isHandle': False, 'isValid': None, 'isFever': False, 'handler': None, 'name': '', 'cardNumber': '', 'phoneNumber': '', 'version': 2.0, 'device': {'id': 1051, 'deviceId': '南一门入口\\x00\\x00\\x00\\x00\\x00', 'name': '南一门入口', 'createTime': '2020-04-09 18:23:08', 'updateTime': '2020-06-18 14:41:14', 'area': '南一门入口\\x00\\x00\\x00\\x00\\x00', 'pictureUrl': None, 'state': 0, 'userName': None, 'phoneNumber': None, 'back': None}, 'alarmFaceAxis': [{'id': 350319, 'temperature': 43.1, 'alarmVlPicLeftTopX': 684.0, 'alarmVlPicLeftTopY': 194.0, 'alarmVlPicRightBottomX': 727.0, 'alarmVlPicRightBottomY': 239.0}], 'handleSuggest': ''}], 'pageable': {'sort': {'sorted': False, 'unsorted': True, 'empty': True}, 'pageNumber': 0, 'pageSize': 2, 'offset': 0, 'unpaged': False, 'paged': True}, 'totalPages': 930, 'totalElements': 1860, 'last': False, 'first': True, 'sort': {'sorted': False, 'unsorted': True, 'empty': True}, 'numberOfElements': 2, 'size': 2, 'number': 0, 'empty': False}}\n"
     ]
    }
   ],
   "source": [
    "url = 'https://infrared.hzncc.cn/api/infrared/alarm/list/spec/deviceId=1051'\n",
    "imgs = getImages(url)\n",
    "imgs"
   ]
  },
  {
   "cell_type": "code",
   "execution_count": null,
   "metadata": {},
   "outputs": [],
   "source": []
  }
 ],
 "metadata": {
  "kernelspec": {
   "display_name": "'facebody'",
   "language": "python",
   "name": "facebody"
  },
  "language_info": {
   "codemirror_mode": {
    "name": "ipython",
    "version": 3
   },
   "file_extension": ".py",
   "mimetype": "text/x-python",
   "name": "python",
   "nbconvert_exporter": "python",
   "pygments_lexer": "ipython3",
   "version": "3.8.3"
  }
 },
 "nbformat": 4,
 "nbformat_minor": 4
}
