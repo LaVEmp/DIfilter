{
 "cells": [
  {
   "cell_type": "code",
   "execution_count": 6,
   "metadata": {},
   "outputs": [],
   "source": [
    "import numpy as np\n",
    "import os\n",
    "import json\n",
    "import io\n",
    "import requests\n",
    "from urllib import request, parse\n",
    "\n",
    "url = 'https://infrared.hzncc.cn/api/infrared/alarm/list/spec/deviceId=964/'\n",
    "data = {'roleId': 1, 'condition': '', 'isHandle': 1, 'isValid': 1, 'isFever': 1, 'dateStart': '', 'dateEnd': '',\n",
    "            'timeSort': 1, 'tempSort': -1, 'pageSize': 1, 'pageNum': 3}\n",
    "\n",
    "headers={'content-type': \"application/json\"}"
   ]
  },
  {
   "cell_type": "code",
   "execution_count": 7,
   "metadata": {},
   "outputs": [
    {
     "name": "stdout",
     "output_type": "stream",
     "text": [
      "{'code': 0, 'errorMessage': None, 'data': {'content': [], 'pageable': {'sort': {'sorted': False, 'unsorted': True, 'empty': True}, 'pageNumber': 0, 'pageSize': 3, 'offset': 0, 'unpaged': False, 'paged': True}, 'totalPages': 0, 'totalElements': 0, 'last': True, 'first': True, 'sort': {'sorted': False, 'unsorted': True, 'empty': True}, 'numberOfElements': 0, 'size': 3, 'number': 0, 'empty': True}}\n"
     ]
    }
   ],
   "source": [
    "req = requests.post(url=url, data=json.dumps(data),headers=headers)\n",
    "print(req.json())"
   ]
  },
  {
   "cell_type": "code",
   "execution_count": 20,
   "metadata": {},
   "outputs": [
    {
     "data": {
      "text/plain": [
       "'https://assettest.hzncc.cn/HncWeb/group1/M00/13/7E/CgEUdl7qybOAHWULAATcxZJjf68709.jpg'"
      ]
     },
     "execution_count": 20,
     "metadata": {},
     "output_type": "execute_result"
    }
   ],
   "source": [
    "imgs_data = json.loads(req.content)\n",
    "data = imgs_data['data'][0]\n",
    "type(imgs_data)"
   ]
  },
  {
   "cell_type": "code",
   "execution_count": 7,
   "metadata": {},
   "outputs": [
    {
     "data": {
      "text/plain": [
       "str"
      ]
     },
     "execution_count": 7,
     "metadata": {},
     "output_type": "execute_result"
    }
   ],
   "source": [
    "source_img_data = requests.get(source_img_url)\n",
    "type(source_img_data.text)"
   ]
  },
  {
   "cell_type": "code",
   "execution_count": 12,
   "metadata": {},
   "outputs": [],
   "source": [
    "source_img=Image.open(io.BytesIO(source_img_data.content))"
   ]
  },
  {
   "cell_type": "code",
   "execution_count": 13,
   "metadata": {},
   "outputs": [],
   "source": [
    "source_img.save(os.path.join(os.getcwd(),'ceshi1.jpg'),'jpeg')"
   ]
  },
  {
   "cell_type": "code",
   "execution_count": 3,
   "metadata": {},
   "outputs": [
    {
     "data": {
      "text/plain": [
       "{'roleId': 1,\n",
       " 'condition': '',\n",
       " 'isHandle': 1,\n",
       " 'isValid': 1,\n",
       " 'isFever': 1,\n",
       " 'dateStart': '',\n",
       " 'dateEnd': '',\n",
       " 'timeSort': 1,\n",
       " 'tempSort': -1,\n",
       " 'pageSize': 1,\n",
       " 'pageNum': 3}"
      ]
     },
     "execution_count": 3,
     "metadata": {},
     "output_type": "execute_result"
    }
   ],
   "source": [
    "data"
   ]
  },
  {
   "cell_type": "code",
   "execution_count": 8,
   "metadata": {},
   "outputs": [
    {
     "ename": "NameError",
     "evalue": "name 'cv2' is not defined",
     "output_type": "error",
     "traceback": [
      "\u001b[1;31m---------------------------------------------------------------------------\u001b[0m",
      "\u001b[1;31mNameError\u001b[0m                                 Traceback (most recent call last)",
      "\u001b[1;32m<ipython-input-8-d0284eb16e27>\u001b[0m in \u001b[0;36m<module>\u001b[1;34m\u001b[0m\n\u001b[1;32m----> 1\u001b[1;33m \u001b[0morb\u001b[0m \u001b[1;33m=\u001b[0m \u001b[0mcv2\u001b[0m\u001b[1;33m.\u001b[0m\u001b[0mORB_create\u001b[0m\u001b[1;33m(\u001b[0m\u001b[1;33m)\u001b[0m\u001b[1;33m\u001b[0m\u001b[1;33m\u001b[0m\u001b[0m\n\u001b[0m",
      "\u001b[1;31mNameError\u001b[0m: name 'cv2' is not defined"
     ]
    }
   ],
   "source": [
    "orb = cv2.ORB_create()"
   ]
  },
  {
   "cell_type": "code",
   "execution_count": null,
   "metadata": {},
   "outputs": [],
   "source": []
  }
 ],
 "metadata": {
  "kernelspec": {
   "display_name": "'facebody'",
   "language": "python",
   "name": "facebody"
  },
  "language_info": {
   "codemirror_mode": {
    "name": "ipython",
    "version": 3
   },
   "file_extension": ".py",
   "mimetype": "text/x-python",
   "name": "python",
   "nbconvert_exporter": "python",
   "pygments_lexer": "ipython3",
   "version": "3.8.3"
  }
 },
 "nbformat": 4,
 "nbformat_minor": 4
}
